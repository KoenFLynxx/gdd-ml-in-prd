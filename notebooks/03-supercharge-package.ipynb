{
 "cells": [
  {
   "cell_type": "markdown",
   "id": "e5ad5bbf",
   "metadata": {},
   "source": [
    "# 03 - Supercharge package"
   ]
  },
  {
   "cell_type": "markdown",
   "id": "911a96a3",
   "metadata": {},
   "source": [
    "## Testing"
   ]
  },
  {
   "cell_type": "markdown",
   "id": "7af67e81",
   "metadata": {},
   "source": [
    "Tests help you determine if your code does what you expected it to do.\n",
    "\n",
    "There are different types of test.\n",
    "The [most important tests](http://slides.com/treycausey/pydata2015#/) for Data Scientists are:\n",
    "- unit tests that focus on small units of code like functions; \n",
    "- integration tests for whole systems;\n",
    "- regression tests to test if software performs the same after changes;\n",
    "\n",
    "In addition, you probably want to have systems checking data quality and monitoring if your model is still performing as expected.\n",
    "Those test won't be discussed here: we'll only show unit tests.\n",
    "\n",
    "[Unit testing](https://jeffknupp.com/blog/2013/12/09/improve-your-python-understanding-unit-testing/) is easy as calling your function and `assert`-ing that the function behaves as expected:"
   ]
  },
  {
   "cell_type": "code",
   "execution_count": null,
   "id": "df9c6ef4",
   "metadata": {},
   "outputs": [],
   "source": [
    "from animal_shelter.data import convert_camel_case\n",
    "\n",
    "result = convert_camel_case('CamelCase')\n",
    "expected = 'camel_case'  # TODO: Adjust this to see what happens.\n",
    "\n",
    "assert result == expected  # Check if it's true!"
   ]
  },
  {
   "cell_type": "markdown",
   "id": "ebfb8257",
   "metadata": {},
   "source": [
    "We `expected` something and compared it to the `result` our function returned, it's as easy as that.\n",
    "\n",
    "Python unit tests generally go in a folder called `tests/` and contain modules starting with `test_`.\n",
    "These modules again contain functions and classes starting with respectively `test_` and `Test`.\n",
    "It's tests all the way down.\n",
    "\n",
    "Our project has a folder called `tests/` and the modules `test_data.py` and `test_features.py` contain unit tests to check the functions that you've made. \n",
    "Check them out!\n",
    "\n",
    "Note that most functions in `test_features.py` don't use `assert`, but use the `pandas` utility function `assert_series_equal()` to check if `Series` are the same.\n",
    "Many libraries have utility functions to make writing tests easier.\n",
    "\n",
    "Run the unit tests using [`pytest`](https://docs.pytest.org/en/latest/):\n",
    "\n",
    "```bash\n",
    "$ poetry run pytest tests/\n",
    "```\n",
    "\n",
    "You'll get some error messages because `test_is_dog()` has not been implemented yet!"
   ]
  },
  {
   "cell_type": "markdown",
   "id": "233ed371",
   "metadata": {},
   "source": [
    "> #### Exercise - Testing\n",
    "> \n",
    "> Create a test case to check if `is_dog()` is implemented correctly.\n",
    "> Make sure that `pytest` doesn't return any errors.\n",
    ">\n",
    "> Bonus: `is_dog` raises an exception if something other than cats or dogs is encountered.\n",
    "Test that this exception if raised if invalid input is given."
   ]
  },
  {
   "cell_type": "markdown",
   "id": "78ceb54d",
   "metadata": {},
   "source": [
    "## Logging\n",
    "\n",
    "Logging helps you understand what's happening when run your code is being run.\n",
    "\n",
    "An often made mistake is that people *configure* logging in their library.\n",
    "This can give problem if the application using your library also wants to configure logger.\n",
    "\n",
    "> #### Exercise - Logging\n",
    ">\n",
    "> The function `check_is_dog()` has a print statement. Replace it with a logging call. Make sure that your logging level is the right one."
   ]
  },
  {
   "cell_type": "code",
   "execution_count": 1,
   "id": "d9e361f8",
   "metadata": {},
   "outputs": [],
   "source": [
    "import logging\n",
    "\n",
    "logging.basicConfig(level=logging.INFO)"
   ]
  },
  {
   "cell_type": "code",
   "execution_count": 2,
   "id": "d770b859",
   "metadata": {},
   "outputs": [
    {
     "name": "stderr",
     "output_type": "stream",
     "text": [
      "INFO:animal_shelter.data:Reading data from ../data/train.csv\n",
      "INFO:animal_shelter.data:Read 26729 rows\n"
     ]
    },
    {
     "data": {
      "text/plain": [
       "0         True\n",
       "1        False\n",
       "2         True\n",
       "3        False\n",
       "4         True\n",
       "         ...  \n",
       "26724    False\n",
       "26725    False\n",
       "26726     True\n",
       "26727    False\n",
       "26728    False\n",
       "Name: animal_type, Length: 26729, dtype: bool"
      ]
     },
     "execution_count": 2,
     "metadata": {},
     "output_type": "execute_result"
    }
   ],
   "source": [
    "from animal_shelter.data import load_data\n",
    "from animal_shelter.features import check_is_dog\n",
    "\n",
    "animal_outcomes = load_data('../data/train.csv')\n",
    "check_is_dog(animal_outcomes[\"animal_type\"])"
   ]
  },
  {
   "cell_type": "markdown",
   "id": "d98f29c8",
   "metadata": {},
   "source": [
    "## Type hinting & checking\n",
    "\n",
    "\n",
    "Type hints make it much easier to statically reason about your code.\n",
    "Signalling what types are used by your code can serve as documentation, help linters & IDEs, and help catch errors by checking the hints.\n",
    "\n",
    "Type hinting in Python is not necesarily a do or do-not choice: you can gradually add type hints.\n",
    "A good practice is to at least add type hints to the public functionality of your library."
   ]
  },
  {
   "cell_type": "markdown",
   "id": "4b257ad8",
   "metadata": {},
   "source": [
    "Let's discuss some examples.\n",
    "\n",
    "`-> None` tells us that this function returns `None`."
   ]
  },
  {
   "cell_type": "code",
   "execution_count": null,
   "id": "f4e44748",
   "metadata": {},
   "outputs": [],
   "source": [
    "def p() -> None: \n",
    "    print('hello')\n",
    "\n",
    "?p\n",
    "\n",
    "p()"
   ]
  },
  {
   "cell_type": "markdown",
   "id": "7ef35670",
   "metadata": {},
   "source": [
    "The function below accepts an argument `names` that should consist of a list with strings in it."
   ]
  },
  {
   "cell_type": "code",
   "execution_count": 4,
   "id": "73845d51",
   "metadata": {},
   "outputs": [
    {
     "name": "stdout",
     "output_type": "stream",
     "text": [
      "Hello Jane\n",
      "Hello Mike\n"
     ]
    }
   ],
   "source": [
    "def greet_all(names: list[str]) -> None: \n",
    "    for name in names:\n",
    "        print('Hello ' + name)\n",
    "\n",
    "?greet_all\n",
    "\n",
    "\n",
    "greet_all(['Jane', 'Mike'])"
   ]
  },
  {
   "cell_type": "markdown",
   "id": "328ecc5c",
   "metadata": {},
   "source": [
    "Type hints are *hints*.\n",
    "You can still disregard them:"
   ]
  },
  {
   "cell_type": "code",
   "execution_count": null,
   "id": "0bac4989",
   "metadata": {},
   "outputs": [],
   "source": [
    "greet_all(('Jane', 'Mike'))"
   ]
  },
  {
   "cell_type": "markdown",
   "id": "7de60265",
   "metadata": {},
   "source": [
    "Duck typing is supported: you can signal that `names` just needs to be something to iterate over:"
   ]
  },
  {
   "cell_type": "code",
   "execution_count": null,
   "id": "26db63fe",
   "metadata": {},
   "outputs": [],
   "source": [
    "from typing import Iterable\n",
    "\n",
    "def greet_all(names: Iterable[str]) -> None:\n",
    "    for name in names: \n",
    "        print('Hello ' + name)"
   ]
  },
  {
   "cell_type": "markdown",
   "id": "69c152a7",
   "metadata": {},
   "source": [
    "> #### Exercise: mypy\n",
    ">\n",
    "> * Add type hints to modules `data.py` and `features.py`\n",
    "> * Make sure that mypy doesn't return any errors if you return `poetry run mypy src/`"
   ]
  },
  {
   "cell_type": "markdown",
   "id": "492ccf85",
   "metadata": {},
   "source": [
    "## Documentation"
   ]
  },
  {
   "cell_type": "markdown",
   "id": "90826266",
   "metadata": {},
   "source": [
    "Documentation will help the users your code.\n",
    "Having documentation in your codebase is already good, but we can use Sphinx to make the documentation easier to ride.\n",
    "\n",
    "\n",
    "> #### Exercise: Sphinx\n",
    "> * Install sphinx, create a sub-directory ‘docs’ and run `sphinx-quickstart` inside the docs directory.\n",
    "> * Create an HTML version of the generated docs by running `make html` inside the docs directory. Open the generated pages in your browser.\n",
    "> * Add a new page by creating an additional RST file and add a reference in your table of contents.\n",
    "> * Change the theme to the ReadTheDocs theme. (Bonus)\n",
    "> Add some API documentation using docstrings + autodoc. (Bonus)"
   ]
  },
  {
   "cell_type": "code",
   "execution_count": null,
   "id": "e493114b",
   "metadata": {},
   "outputs": [],
   "source": []
  }
 ],
 "metadata": {
  "kernelspec": {
   "display_name": "Python 3 (ipykernel)",
   "language": "python",
   "name": "python3"
  },
  "language_info": {
   "codemirror_mode": {
    "name": "ipython",
    "version": 3
   },
   "file_extension": ".py",
   "mimetype": "text/x-python",
   "name": "python",
   "nbconvert_exporter": "python",
   "pygments_lexer": "ipython3",
   "version": "3.9.7"
  }
 },
 "nbformat": 4,
 "nbformat_minor": 5
}
