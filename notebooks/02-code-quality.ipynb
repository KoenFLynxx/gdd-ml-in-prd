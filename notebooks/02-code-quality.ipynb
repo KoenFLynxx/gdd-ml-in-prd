{
 "cells": [
  {
   "cell_type": "markdown",
   "metadata": {},
   "source": [
    "# Code quality"
   ]
  },
  {
   "cell_type": "markdown",
   "metadata": {},
   "source": [
    "Writing modular, reusable code has to do with code quality.\n",
    "Code is a means to communicate.\n",
    "You use it to communicate with machines but also with other developers.\n",
    "High quality code is good communication.\n",
    "\n",
    "Code of high quality is correct, human readable, consistent, modular and reusable.\n",
    "This involves fundamentals like code styling, but also concerns naming, code structure and principles like [DRY](Don't repeat yourself), the [rule of three](https://en.wikipedia.org/wiki/Rule_of_three_&#40;computer_programming&#41;) and [single responsibility principle](https://en.wikipedia.org/wiki/Single_responsibility_principle)."
   ]
  },
  {
   "cell_type": "markdown",
   "metadata": {},
   "source": [
    "## Styling\n",
    "\n",
    "We'll first focus on formatting the code with [black](https://github.com/psf/black). black has become the de-facto standard in the last few years.\n",
    "\n",
    "\n",
    "> #### Exercise: Formatting\n",
    "> \n",
    "> Often, you'll just *apply* black and don't spend too much time looking at the results. Now, however, it's interesting to see what black would change.\n",
    ">\n",
    "> Run the following command below. What changes would black make?\n",
    ">\n",
    "> ```sh\n",
    "> $ poetry run black --diff --color src/\n",
    "> ```\n",
    "> \n",
    "> Now that you know what will change, let black format the code. Pick one of these options:\n",
    "> - In VS Code, use 'Format Document' to format the module `features.py`.\n",
    "> - Format the module `features.py` from the command line with `poetry run black src/`"
   ]
  },
  {
   "cell_type": "markdown",
   "metadata": {},
   "source": [
    "## Formatting\n",
    "\n",
    "The next step is styling.\n",
    "Style guides dictate how you should write your code so that everyone uses a single, consistent style.\n",
    "This facilitates good communication.\n",
    "There's [PEP8](https://www.python.org/dev/peps/pep-0008/) for Python; [Google's Style Guide](https://google.github.io/styleguide/Rguide.xml) or [Advanced R](http://adv-r.had.co.nz/Style.html) for R; and the official [Guide](https://docs.scala-lang.org/style/) for Scala."
   ]
  },
  {
   "cell_type": "markdown",
   "metadata": {},
   "source": [
    "> #### Exercise: Styling\n",
    ">\n",
    "> There's a handy function called `add_features()` in  `data.py` of our Python package `shelter` that adds features to our data.\n",
    "Unfortunately, it doesn't follow the PEP8 standards.\n",
    "Most violations are whitespace problems and variable names, so this should be pretty easy to fix.\n",
    ">\n",
    "> Open the project folder in [VS Code](https://code.visualstudio.com/), set the linter to flake8 and navigate to the file `animal_shelter/features.py`.\n",
    "> Make all the curly yellow lines go away.\n",
    "> Hover over to the lines to see what's wrong.\n",
    ">\n",
    "> If you don't have VS Code, change the code in your favorite editor until the following command doesn't return errors:\n",
    ">\n",
    "> ```bash\n",
    "> $ poetry run flake8 src/shelter/features.py --show-source\n",
    "> ```\n",
    ">\n",
    "> `flake8` reports the style violations of your code, try to decypher its output and fix the code."
   ]
  },
  {
   "cell_type": "markdown",
   "metadata": {},
   "source": [
    "## Refactoring"
   ]
  },
  {
   "cell_type": "markdown",
   "metadata": {},
   "source": [
    "The code in `add_features()` now has the right styling and formatting, but it's not good code yet.\n",
    "The function is doing multiple things (checking sex, getting hair type, etc.) and that is [not OK](https://blog.codinghorror.com/curlys-law-do-one-thing/).\n",
    "There's more to improve than just code style!"
   ]
  },
  {
   "cell_type": "markdown",
   "metadata": {},
   "source": [
    "> #### Exercise: Refactoring\n",
    ">\n",
    "> Move the sub-logic from `add_features()`  to the appropriate functions in:\n",
    ">\n",
    "> - `check_has_name()`\n",
    "> - `get_sex()`\n",
    "> - `get_neutered()`\n",
    "> - `get_hair_type()`\n",
    "> - `compute_days_upon_outcome()`    \n",
    ">\n",
    "> The function `check_is_dog()` is already filled in for you.\n",
    "> All functions take a `Series` (a column in our `DataFrame`) and return a `Series`.\n",
    ">\n",
    "> After this exercise `add_features()` should look something like:\n",
    ">\n",
    ">\n",
    "> ```python\n",
    "> def add_features(df):\n",
    ">     df['is_dog'] = check_is_dog(df['animal_type'])\n",
    ">     df['has_name'] = check_has_name(df['name'])\n",
    ">     # ...\n",
    ">     return df\n",
    ">\n",
    "> ```\n",
    ">\n",
    "> NB: Make sure that `black` and `flake8` are also OK with your changes!"
   ]
  },
  {
   "cell_type": "markdown",
   "metadata": {},
   "source": [
    "It already looks better and more structured, but there are still things that should be improved.\n",
    "\n",
    "> #### Question: Side effects\n",
    "> For instance, the function `add_features()` has an unexpected [side effect](https://softwareengineering.stackexchange.com/questions/15269/why-are-side-effects-considered-evil-in-functional-programming): input `df` gets changed when the function is called.\n",
    "> Generally, you want to avoid this kind of unexpected behaviour.\n",
    "> How could you avoid this?\n",
    "> What would you do to improve these functions further?"
   ]
  }
 ],
 "metadata": {
  "kernelspec": {
   "display_name": "Python 3 (ipykernel)",
   "language": "python",
   "name": "python3"
  },
  "language_info": {
   "codemirror_mode": {
    "name": "ipython",
    "version": 3
   },
   "file_extension": ".py",
   "mimetype": "text/x-python",
   "name": "python",
   "nbconvert_exporter": "python",
   "pygments_lexer": "ipython3",
   "version": "3.9.7"
  }
 },
 "nbformat": 4,
 "nbformat_minor": 2
}
